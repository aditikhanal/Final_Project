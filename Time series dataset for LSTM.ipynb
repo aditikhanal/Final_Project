{
 "cells": [
  {
   "cell_type": "code",
   "execution_count": 1,
   "id": "23367f2e-91ac-44ea-86f9-221974803aed",
   "metadata": {},
   "outputs": [
    {
     "name": "stdout",
     "output_type": "stream",
     "text": [
      "All tables registered (using DuckDB views).\n"
     ]
    },
    {
     "data": {
      "application/vnd.jupyter.widget-view+json": {
       "model_id": "1dcf428b6fa34b24b11212aacfbaa274",
       "version_major": 2,
       "version_minor": 0
      },
      "text/plain": [
       "FloatProgress(value=0.0, layout=Layout(width='auto'), style=ProgressStyle(bar_color='black'))"
      ]
     },
     "metadata": {},
     "output_type": "display_data"
    },
    {
     "name": "stdout",
     "output_type": "stream",
     "text": [
      "\n",
      " Final ICU LOS time-series dataset ready!\n",
      "Shape: (7688968, 13)\n"
     ]
    }
   ],
   "source": [
    "import duckdb\n",
    "import pandas as pd\n",
    "\n",
    "# ===============================\n",
    "# Step 1: File paths\n",
    "# ===============================\n",
    "csv_folder = r\"\"\n",
    "\n",
    "# Connect to in-memory DuckDB \n",
    "con = duckdb.connect(database=\":memory:\")\n",
    "\n",
    "# ===============================\n",
    "# Step 2: Loading mimic files to duck db in-memory\n",
    "# ===============================\n",
    "con.execute(f\"CREATE VIEW patients AS SELECT * FROM read_csv_auto('{csv_folder}\\\\hosp\\\\patients.csv.gz');\")\n",
    "con.execute(f\"CREATE VIEW admissions AS SELECT * FROM read_csv_auto('{csv_folder}\\\\hosp\\\\admissions.csv.gz');\")\n",
    "con.execute(f\"CREATE VIEW icustays AS SELECT * FROM read_csv_auto('{csv_folder}\\\\icu\\\\icustays.csv.gz');\")\n",
    "con.execute(f\"CREATE VIEW chartevents AS SELECT * FROM read_csv_auto('{csv_folder}\\\\icu\\\\chartevents.csv.gz');\")\n",
    "con.execute(f\"CREATE VIEW labevents AS SELECT * FROM read_csv_auto('{csv_folder}\\\\hosp\\\\labevents.csv.gz');\")\n",
    "\n",
    "print(\"All tables registered (using DuckDB views).\")\n",
    "\n",
    "# ===============================\n",
    "# Step 3: Creating LSTM time-series dataset\n",
    "# ===============================\n",
    "icu_query = f\"\"\"\n",
    "WITH base AS (\n",
    "    SELECT\n",
    "        p.subject_id,\n",
    "        a.hadm_id,\n",
    "        i.stay_id,\n",
    "        ROUND(EXTRACT(EPOCH FROM (i.outtime - i.intime)) / 86400.0, 2) AS icu_los_days\n",
    "    FROM admissions a\n",
    "    INNER JOIN patients p ON a.subject_id = p.subject_id\n",
    "    INNER JOIN icustays i ON a.hadm_id = i.hadm_id\n",
    "    WHERE p.anchor_age >= 18\n",
    "      AND i.outtime IS NOT NULL\n",
    "      AND i.intime IS NOT NULL\n",
    "),\n",
    "\n",
    "vitals AS (\n",
    "    SELECT\n",
    "        c.stay_id,\n",
    "        FLOOR(EXTRACT(EPOCH FROM (c.charttime - i.intime)) / 3600) AS hour_index,\n",
    "        AVG(valuenum) FILTER (WHERE itemid IN (211,220045)) AS heart_rate,\n",
    "        AVG(valuenum) FILTER (WHERE itemid IN (51,442,455,6701,220179,220050)) AS bp_systolic,\n",
    "        AVG(valuenum) FILTER (WHERE itemid IN (8368,8440,8441,220180,220051)) AS bp_diastolic,\n",
    "        AVG(valuenum) FILTER (WHERE itemid IN (646,220277)) AS spo2,\n",
    "        AVG(valuenum) FILTER (WHERE itemid IN (223761,678)) AS temperature,\n",
    "        AVG(valuenum) FILTER (WHERE itemid IN (618, 220210)) AS resp_rate,\n",
    "        AVG(valuenum) FILTER (WHERE itemid IN (51265, 50912)) AS platelets\n",
    "    FROM chartevents c\n",
    "    JOIN icustays i ON i.stay_id = c.stay_id\n",
    "    WHERE c.valuenum IS NOT NULL\n",
    "      AND c.charttime BETWEEN i.intime AND i.outtime\n",
    "    GROUP BY c.stay_id, hour_index\n",
    "),\n",
    "\n",
    "labs AS (\n",
    "    SELECT\n",
    "        l.hadm_id,\n",
    "        i.stay_id,\n",
    "        FLOOR(EXTRACT(EPOCH FROM (l.charttime - i.intime)) / 3600) AS hour_index,\n",
    "        AVG(valuenum) FILTER (WHERE itemid IN (50912,50971)) AS creatinine,\n",
    "        AVG(valuenum) FILTER (WHERE itemid = 50983) AS glucose,\n",
    "        AVG(valuenum) FILTER (WHERE itemid = 50882) AS hemoglobin\n",
    "    FROM labevents l\n",
    "    JOIN icustays i ON i.hadm_id = l.hadm_id\n",
    "    WHERE l.valuenum IS NOT NULL\n",
    "      AND l.charttime BETWEEN i.intime AND i.outtime\n",
    "    GROUP BY l.hadm_id, i.stay_id, hour_index\n",
    ")\n",
    "\n",
    "SELECT\n",
    "    b.stay_id,\n",
    "    b.icu_los_days,\n",
    "    v.hour_index,\n",
    "    v.heart_rate,\n",
    "    v.bp_systolic,\n",
    "    v.bp_diastolic,\n",
    "    v.spo2,\n",
    "    v.resp_rate,\n",
    "    v.temperature,\n",
    "    v.platelets,\n",
    "    l.creatinine,\n",
    "    l.glucose,\n",
    "    l.hemoglobin\n",
    "FROM base b\n",
    "LEFT JOIN vitals v ON b.stay_id = v.stay_id\n",
    "LEFT JOIN labs l ON b.hadm_id = l.hadm_id AND v.hour_index = l.hour_index\n",
    "WHERE\n",
    "    b.icu_los_days BETWEEN 0.5 AND 60\n",
    "    AND v.heart_rate IS NOT NULL\n",
    "ORDER BY b.stay_id, v.hour_index;\n",
    "\"\"\"\n",
    "\n",
    "# ===============================\n",
    "# Step 4: Run the query and save dataset\n",
    "# ===============================\n",
    "icu_df = con.execute(icu_query).fetch_df()\n",
    "icu_df.to_csv(\"icu_los_features_classification_lstm.csv\", index=False)\n",
    "print(\"\\n Final ICU LOS time-series dataset ready!\")\n",
    "print(\"Shape:\", icu_df.shape)\n",
    "\n",
    "con.close()\n"
   ]
  },
  {
   "cell_type": "code",
   "execution_count": 8,
   "id": "daad62b4-d64b-4d02-a38a-fa454900351f",
   "metadata": {},
   "outputs": [
    {
     "name": "stdout",
     "output_type": "stream",
     "text": [
      "Total ICU stays in main table: 94458\n",
      "Total unique ICU patients in main table: 65366\n"
     ]
    }
   ],
   "source": [
    "import duckdb\n",
    "\n",
    "csv_folder = r\"\"\n",
    "# Connect to DuckDB\n",
    "con = duckdb.connect()\n",
    "\n",
    "# Register the icustays CSV as a view\n",
    "con.execute(f\"CREATE VIEW icustays AS SELECT * FROM read_csv_auto('{csv_folder}\\\\icu\\\\icustays.csv.gz');\")\n",
    "\n",
    "# Count total ICU stays (rows) and total unique patients\n",
    "result = con.execute(\"\"\"\n",
    "    SELECT \n",
    "        COUNT(*) AS total_icu_stays,\n",
    "        COUNT(DISTINCT subject_id) AS total_unique_patients\n",
    "    FROM icustays\n",
    "\"\"\").fetchone()\n",
    "\n",
    "total_icu_stays = result[0]\n",
    "total_patients = result[1]\n",
    "\n",
    "print(\"Total ICU stays in main table:\", total_icu_stays)\n",
    "print(\"Total unique ICU patients in main table:\", total_patients)\n",
    "\n",
    "con.close()"
   ]
  },
  {
   "cell_type": "code",
   "execution_count": 5,
   "id": "25d314f1-b245-4eb3-9746-a4fb26859834",
   "metadata": {},
   "outputs": [
    {
     "name": "stdout",
     "output_type": "stream",
     "text": [
      "Total rows (ICU stays) in filtered dataset with age >= 18 and icu_los_days BETWEEN 0.5 AND 60: 7688968\n",
      "Total unique patients in main dataset with age >= 18 and icu_los_days BETWEEN 0.5 AND 60: 63524\n"
     ]
    }
   ],
   "source": [
    "# Total rows in subset after joining core tables and applying age filter and icu_los_days BETWEEN 0.5 AND 60\n",
    "total_rows = icu_df.shape[0]\n",
    "print(\"Total rows (ICU stays) in filtered dataset with age >= 18 and icu_los_days BETWEEN 0.5 AND 60:\", total_rows)\n",
    "\n",
    "# Total rows in subset after joining\n",
    "total_patients = icu_df['subject_id'].nunique()\n",
    "print(\"Total unique patients in main dataset with age >= 18 and icu_los_days BETWEEN 0.5 AND 60:\", total_patients)"
   ]
  },
  {
   "cell_type": "code",
   "execution_count": 10,
   "id": "c6ada8f7-1544-4bf8-a745-0eff2373b1de",
   "metadata": {},
   "outputs": [
    {
     "data": {
      "image/png": "[encoded data removed]",
      "text/plain": [
       "<Figure size 1200x600 with 1 Axes>"
      ]
     },
     "metadata": {},
     "output_type": "display_data"
    }
   ],
   "source": [
    "import matplotlib.pyplot as plt\n",
    "import pandas as pd\n",
    "import numpy as np\n",
    "\n",
    "# Prepare data\n",
    "data = {\n",
    "    \"Dataset\": [\n",
    "        \"MIMIC IV dataset\",\n",
    "        \"Sample set: age ≥18 and ICU LOS 0.5–60\",\n",
    "    ],\n",
    "    \"ICU Stays\": [94458, 88623],\n",
    "    \"Unique Patients\": [65366, 62285]\n",
    "}\n",
    "\n",
    "df_plot = pd.DataFrame(data)\n",
    "\n",
    "# Set figure size\n",
    "plt.figure(figsize=(12,6))\n",
    "\n",
    "# Define positions and width\n",
    "x = np.arange(len(df_plot[\"Dataset\"]))\n",
    "width = 0.35  # width of the bars\n",
    "\n",
    "# Plot ICU Stays\n",
    "bars1 = plt.bar(x - width/2, df_plot[\"ICU Stays\"], width, color=\"skyblue\", label=\"ICU Stays\")\n",
    "\n",
    "# Plot Unique Patients\n",
    "bars2 = plt.bar(x + width/2, df_plot[\"Unique Patients\"], width, color=\"salmon\", label=\"Unique Patients\")\n",
    "\n",
    "# Add counts on top of each bar\n",
    "for bar in bars1:\n",
    "    plt.text(bar.get_x() + bar.get_width()/2, bar.get_height() + 1000, f'{bar.get_height():,}', \n",
    "             ha='center', va='bottom', fontsize=10)\n",
    "for bar in bars2:\n",
    "    plt.text(bar.get_x() + bar.get_width()/2, bar.get_height() + 1000, f'{bar.get_height():,}', \n",
    "             ha='center', va='bottom', fontsize=10)\n",
    "\n",
    "# Labels, title, and legend\n",
    "plt.xticks(x, df_plot[\"Dataset\"], rotation=15)\n",
    "plt.ylabel(\"Count\")\n",
    "plt.title(\"Comparison of ICU Stays and Unique Patients Across MIMIC IV and sample dataset\")\n",
    "plt.legend()\n",
    "plt.tight_layout()\n",
    "plt.show()"
   ]
  },
  {
   "cell_type": "code",
   "execution_count": null,
   "id": "1e610225-83bc-48b2-86f6-37a5b673a89a",
   "metadata": {},
   "outputs": [],
   "source": []
  }
 ],
 "metadata": {
  "kernelspec": {
   "display_name": "Python 3 (ipykernel)",
   "language": "python",
   "name": "python3"
  },
  "language_info": {
   "codemirror_mode": {
    "name": "ipython",
    "version": 3
   },
   "file_extension": ".py",
   "mimetype": "text/x-python",
   "name": "python",
   "nbconvert_exporter": "python",
   "pygments_lexer": "ipython3",
   "version": "3.10.0"
  }
 },
 "nbformat": 4,
 "nbformat_minor": 5
}
